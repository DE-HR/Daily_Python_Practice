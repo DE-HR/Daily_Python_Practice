{
  "nbformat": 4,
  "nbformat_minor": 0,
  "metadata": {
    "colab": {
      "provenance": [],
      "collapsed_sections": [],
      "authorship_tag": "ABX9TyPKK6lg3dJQE0ty8pgmnJF/"
    },
    "kernelspec": {
      "name": "python3",
      "display_name": "Python 3"
    },
    "language_info": {
      "name": "python"
    }
  },
  "cells": [
    {
      "cell_type": "markdown",
      "source": [
        "Write a Python function that takes a list and returns a new list with unique elements of the first list.\n",
        "\n",
        "\n",
        "Sample List : [1,1,1,1,2,2,3,3,3,3,4,5]\n",
        "Unique List : [1, 2, 3, 4, 5]\n"
      ],
      "metadata": {
        "id": "z884hE7raB8W"
      }
    },
    {
      "cell_type": "code",
      "execution_count": null,
      "metadata": {
        "id": "f8lJHBwwY5To"
      },
      "outputs": [],
      "source": [
        "#Approach 1 : By traversing the list\n",
        "\n",
        "def unique_list(lst1):\n",
        "  uniq_lst = []\n",
        "  for x in lst1:\n",
        "    if x not in uniq_lst:\n",
        "      uniq_lst.append(x)\n",
        "  return uniq_lst"
      ]
    },
    {
      "cell_type": "code",
      "source": [
        "# Testing the function unique_list\n",
        "sample_list = [1,1,1,1,2,2,3,3,3,3,4,5]\n",
        "unique_list(sample_list)"
      ],
      "metadata": {
        "colab": {
          "base_uri": "https://localhost:8080/"
        },
        "id": "67sjyhCmh94h",
        "outputId": "30aaed14-fa39-41ba-e577-51e570443a83"
      },
      "execution_count": null,
      "outputs": [
        {
          "output_type": "execute_result",
          "data": {
            "text/plain": [
              "[1, 2, 3, 4, 5]"
            ]
          },
          "metadata": {},
          "execution_count": 2
        }
      ]
    },
    {
      "cell_type": "code",
      "source": [
        "# Approach 2: Using unique function available in numpy library\n",
        "import numpy as np\n",
        "\n",
        "def unique_list_1(lst2):\n",
        "  arr = np.array(lst2)\n",
        "  print(np.unique(arr))\n"
      ],
      "metadata": {
        "id": "RGXohkAciVGb"
      },
      "execution_count": null,
      "outputs": []
    },
    {
      "cell_type": "code",
      "source": [
        "# Testing the function unique_list_1\n",
        "sample_list = [1,1,1,1,2,2,3,3,3,3,4,5]\n",
        "unique_list_1(sample_list)"
      ],
      "metadata": {
        "colab": {
          "base_uri": "https://localhost:8080/"
        },
        "id": "Qf69iQurkoAl",
        "outputId": "4d9ae7f1-3da1-44a6-90f1-9725172cb8c1"
      },
      "execution_count": null,
      "outputs": [
        {
          "output_type": "stream",
          "name": "stdout",
          "text": [
            "[1 2 3 4 5]\n"
          ]
        }
      ]
    },
    {
      "cell_type": "code",
      "source": [
        "# Approach 3: Using set data structure\n",
        "\n",
        "def unique_list_2(lst3):\n",
        "  s = set(lst3)\n",
        "  l = list(s)\n",
        "  return l"
      ],
      "metadata": {
        "id": "sZH-znp5kxTK"
      },
      "execution_count": null,
      "outputs": []
    },
    {
      "cell_type": "code",
      "source": [
        "# Testing the function unique_list_2\n",
        "sample_list = [1,1,1,1,2,2,3,3,3,3,4,5]\n",
        "unique_list_2(sample_list)"
      ],
      "metadata": {
        "colab": {
          "base_uri": "https://localhost:8080/"
        },
        "id": "WH1D2tJalHNy",
        "outputId": "484c7c6f-3f78-4027-bb5d-f95030e53b98"
      },
      "execution_count": null,
      "outputs": [
        {
          "output_type": "execute_result",
          "data": {
            "text/plain": [
              "[1, 2, 3, 4, 5]"
            ]
          },
          "metadata": {},
          "execution_count": 11
        }
      ]
    }
  ]
}