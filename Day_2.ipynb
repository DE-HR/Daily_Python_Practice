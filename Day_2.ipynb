{
  "nbformat": 4,
  "nbformat_minor": 0,
  "metadata": {
    "colab": {
      "provenance": [],
      "collapsed_sections": [],
      "authorship_tag": "ABX9TyNBVbWCl7qvO2V+jWcMMVAr"
    },
    "kernelspec": {
      "name": "python3",
      "display_name": "Python 3"
    },
    "language_info": {
      "name": "python"
    }
  },
  "cells": [
    {
      "cell_type": "markdown",
      "source": [
        "LESSER OF TWO EVENS: Write a function that returns the lesser of two given numbers if both numbers are even, but returns the greater if one or both numbers are odd.\n",
        "\n",
        "\n",
        "Desired output:\n",
        "lesser_of_two_evens(2,4)---> 2\n",
        "lesser_of_two_evens(2,3)---> 3\n",
        "lesser_of_two_evens(3,4)---> 4"
      ],
      "metadata": {
        "id": "miLYp2E9SOx9"
      }
    },
    {
      "cell_type": "code",
      "execution_count": null,
      "metadata": {
        "id": "KGqiL0hWRVib"
      },
      "outputs": [],
      "source": [
        "#Approach 1:\n",
        "\n",
        "def lesser_of_two_evens(*a):\n",
        "  if(a[0]%2 == 0 and a[1]%2 == 0 ):\n",
        "    if(a[0] <= a[1]):\n",
        "      result = a[0]\n",
        "    else:\n",
        "      result = a[1]\n",
        "  else:\n",
        "    if(a[0] <= a[1]):\n",
        "      result = a[1]\n",
        "    else:\n",
        "      result = a[0]\n",
        "  return result"
      ]
    },
    {
      "cell_type": "code",
      "source": [
        "lesser_of_two_evens(3,4)"
      ],
      "metadata": {
        "colab": {
          "base_uri": "https://localhost:8080/"
        },
        "id": "HIfxmcRsTPxe",
        "outputId": "4ca114f8-fbf5-42a9-9530-ad8e05c0f3d2"
      },
      "execution_count": null,
      "outputs": [
        {
          "output_type": "execute_result",
          "data": {
            "text/plain": [
              "4"
            ]
          },
          "metadata": {},
          "execution_count": 6
        }
      ]
    },
    {
      "cell_type": "code",
      "source": [
        "# Approach 2:\n",
        "\n",
        "def lesser_of_two_even(a,b):\n",
        "  if(a%2 == 0 and b%2 == 0 ):\n",
        "    return min(a,b)\n",
        "  else:\n",
        "    return max(a,b)\n",
        "\n",
        "\n"
      ],
      "metadata": {
        "id": "uv8tPCqeTP78"
      },
      "execution_count": null,
      "outputs": []
    },
    {
      "cell_type": "code",
      "source": [
        "lesser_of_two_even(30,91)"
      ],
      "metadata": {
        "colab": {
          "base_uri": "https://localhost:8080/"
        },
        "id": "Qo6wVvf6VmFn",
        "outputId": "56348ed2-be20-4bf5-edf8-193092b03b45"
      },
      "execution_count": null,
      "outputs": [
        {
          "output_type": "execute_result",
          "data": {
            "text/plain": [
              "91"
            ]
          },
          "metadata": {},
          "execution_count": 12
        }
      ]
    }
  ]
}